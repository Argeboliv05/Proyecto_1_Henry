{
 "cells": [
  {
   "cell_type": "markdown",
   "metadata": {},
   "source": [
    "IMPORTAR LIBRERIAS"
   ]
  },
  {
   "cell_type": "code",
   "execution_count": 1,
   "metadata": {},
   "outputs": [
    {
     "name": "stderr",
     "output_type": "stream",
     "text": [
      "C:\\Users\\argen\\AppData\\Local\\Temp\\ipykernel_42980\\2029532637.py:1: DeprecationWarning: \n",
      "Pyarrow will become a required dependency of pandas in the next major release of pandas (pandas 3.0),\n",
      "(to allow more performant data types, such as the Arrow string type, and better interoperability with other libraries)\n",
      "but was not found to be installed on your system.\n",
      "If this would cause problems for you,\n",
      "please provide us feedback at https://github.com/pandas-dev/pandas/issues/54466\n",
      "        \n",
      "  import pandas as pd\n"
     ]
    }
   ],
   "source": [
    "import pandas as pd \n",
    "import json\n",
    "from pandas import json_normalize\n",
    "import ast\n",
    "import re\n",
    "import numpy as np"
   ]
  },
  {
   "cell_type": "markdown",
   "metadata": {},
   "source": [
    "CARGA DE DATOS"
   ]
  },
  {
   "cell_type": "code",
   "execution_count": 2,
   "metadata": {},
   "outputs": [
    {
     "name": "stderr",
     "output_type": "stream",
     "text": [
      "C:\\Users\\argen\\AppData\\Local\\Temp\\ipykernel_42980\\1457517589.py:1: DtypeWarning: Columns (10) have mixed types. Specify dtype option on import or set low_memory=False.\n",
      "  df = pd.read_csv(\"./Movies/movies_dataset.csv\")\n"
     ]
    }
   ],
   "source": [
    "df = pd.read_csv(\"./Movies/movies_dataset.csv\")\n",
    "df_2 = pd.read_csv(\"./Movies/credits.csv\")"
   ]
  },
  {
   "cell_type": "markdown",
   "metadata": {},
   "source": [
    "DESANIDAR COLUMNAS"
   ]
  },
  {
   "cell_type": "markdown",
   "metadata": {},
   "source": [
    "FUNCIONES"
   ]
  },
  {
   "cell_type": "code",
   "execution_count": 3,
   "metadata": {},
   "outputs": [],
   "source": [
    "def carga_json_loads(x):\n",
    "    if isinstance(x, str):\n",
    "        try:\n",
    "            return json.loads(x)\n",
    "        except json.JSONDecodeError:\n",
    "            return None  # O puedes devolver un valor predeterminado o manejarlo de otra manera\n",
    "    return x\n",
    "\n",
    "\n",
    "def fix_incomplete_strings(entry):\n",
    "    if isinstance(entry, str):\n",
    "        try:\n",
    "            return ast.literal_eval(entry)  # Intentar evaluar directamente\n",
    "        except (ValueError, SyntaxError):  # Si falla, limpiar la cadena\n",
    "            # Reemplazar comillas simples por dobles para estandarizar el formato\n",
    "            cleaned_entry = entry.replace(\"'\", \"\\\"\")\n",
    "            try:\n",
    "                return ast.literal_eval(cleaned_entry)  # Intentar nuevamente después de limpiar\n",
    "            except (ValueError, SyntaxError):\n",
    "                return None  # Si todavía falla, devolver None para revisión\n",
    "    return entry  # Devolver los valores no string (como NaN) tal cual"
   ]
  },
  {
   "cell_type": "markdown",
   "metadata": {},
   "source": [
    "DESANIDADO DE COLUMNAS DEL DATASETS MOVIES"
   ]
  },
  {
   "cell_type": "code",
   "execution_count": 4,
   "metadata": {},
   "outputs": [],
   "source": [
    "df[\"belongs_to_collection\"] = df[\"belongs_to_collection\"].apply(lambda x: x.replace(\"'\", '\"') if pd.notna(x) else x)\n",
    "df[\"belongs_to_collection\"] = df[\"belongs_to_collection\"].apply(carga_json_loads)\n",
    "collection = json_normalize(df[\"belongs_to_collection\"])\n",
    "collection = collection.rename(columns= {'id': 'collection_id', 'name':'collection_name'})\n",
    "df = pd.concat([df, collection['collection_id'], collection['collection_name']], axis=1)\n",
    "df.drop(columns='belongs_to_collection', inplace= True)"
   ]
  },
  {
   "cell_type": "code",
   "execution_count": 5,
   "metadata": {},
   "outputs": [],
   "source": [
    "df[\"genres\"] = df[\"genres\"].apply(lambda x: x.replace(\"'\", '\"') if pd.notna(x) else x)\n",
    "df['genres'] = df['genres'].apply(ast.literal_eval)\n",
    "data_exploded = df.explode('genres')\n",
    "data_normalized = json_normalize(data_exploded['genres']).rename(columns= {'id': 'genres_id', 'name':'genres_name'})\n",
    "df = pd.concat([data_exploded.reset_index(drop=True), data_normalized], axis=1)\n",
    "df.drop(columns='genres', inplace= True)"
   ]
  },
  {
   "cell_type": "code",
   "execution_count": 6,
   "metadata": {},
   "outputs": [],
   "source": [
    "df[\"production_companies\"] = df[\"production_companies\"].apply(lambda x: x.replace(\"'\", '\"') if pd.notna(x) else x)\n",
    "df['production_companies'] = df['production_companies'].apply(fix_incomplete_strings)\n",
    "data_exploded = df.explode(\"production_companies\")\n",
    "data_normalized = json_normalize(data_exploded[\"production_companies\"]).rename(columns= {'id': 'production_companies_id', 'name':'production_companies_name'})\n",
    "df = pd.concat([data_exploded.reset_index(drop=True), data_normalized], axis=1)\n",
    "df.drop(columns=\"production_companies\", inplace= True)\n"
   ]
  },
  {
   "cell_type": "code",
   "execution_count": 7,
   "metadata": {},
   "outputs": [],
   "source": [
    "df[\"production_countries\"] = df[\"production_countries\"].apply(lambda x: x.replace(\"'\", '\"') if pd.notna(x) else x)\n",
    "df['production_countries'] = df['production_countries'].apply(fix_incomplete_strings)\n",
    "data_exploded = df.explode('production_countries')\n",
    "data_normalized = json_normalize(data_exploded['production_countries']).rename(columns= {'id': 'production_countries_id', 'name':'production_countries_name'})\n",
    "df = pd.concat([data_exploded.reset_index(drop=True), data_normalized], axis=1)\n",
    "df.drop(columns=\"production_countries\", inplace= True)"
   ]
  },
  {
   "cell_type": "code",
   "execution_count": 8,
   "metadata": {},
   "outputs": [],
   "source": [
    "df[\"spoken_languages\"] = df[\"spoken_languages\"].apply(lambda x: x.replace(\"'\", '\"') if pd.notna(x) else x)\n",
    "df['spoken_languages'] = df['spoken_languages'].apply(fix_incomplete_strings)\n",
    "data_exploded = df.explode('spoken_languages')\n",
    "data_normalized = json_normalize(data_exploded['spoken_languages']).rename(columns= {'id': 'spoken_languages_id', 'name':'spoken_languages_name'})\n",
    "df = pd.concat([data_exploded.reset_index(drop=True), data_normalized], axis=1)\n",
    "df.drop(columns=\"spoken_languages\", inplace= True)"
   ]
  },
  {
   "cell_type": "markdown",
   "metadata": {},
   "source": [
    "TRANSFORMACIONES"
   ]
  },
  {
   "cell_type": "markdown",
   "metadata": {},
   "source": [
    "Valores nulos de los campos revenue, budget deben ser rellenados por el número 0."
   ]
  },
  {
   "cell_type": "code",
   "execution_count": 9,
   "metadata": {},
   "outputs": [
    {
     "name": "stdout",
     "output_type": "stream",
     "text": [
      "21\n",
      "0\n"
     ]
    }
   ],
   "source": [
    "#Verificar si tiene nuloss y cuantos\n",
    "print(df.revenue.isnull().sum())\n",
    "print(df.budget.isnull().sum())"
   ]
  },
  {
   "cell_type": "code",
   "execution_count": 10,
   "metadata": {},
   "outputs": [],
   "source": [
    "#rellenar los nulos con cero de la columna 'revenue'\n",
    "df.loc[df.revenue.isnull()] = 0"
   ]
  },
  {
   "cell_type": "markdown",
   "metadata": {},
   "source": [
    "Los valores nulos del campo release date deben eliminarse."
   ]
  },
  {
   "cell_type": "code",
   "execution_count": 12,
   "metadata": {},
   "outputs": [
    {
     "name": "stdout",
     "output_type": "stream",
     "text": [
      "170\n",
      "21\n"
     ]
    }
   ],
   "source": [
    "#verificar que la colunma 'release_date' tenga nulos y ceros\n",
    "print(df['release_date'].isnull().sum())\n",
    "print(df['release_date'].value_counts()[0])"
   ]
  },
  {
   "cell_type": "code",
   "execution_count": 13,
   "metadata": {},
   "outputs": [],
   "source": [
    "s = df[df['release_date'] == 0]"
   ]
  },
  {
   "cell_type": "code",
   "execution_count": 14,
   "metadata": {},
   "outputs": [
    {
     "data": {
      "text/html": [
       "<div>\n",
       "<style scoped>\n",
       "    .dataframe tbody tr th:only-of-type {\n",
       "        vertical-align: middle;\n",
       "    }\n",
       "\n",
       "    .dataframe tbody tr th {\n",
       "        vertical-align: top;\n",
       "    }\n",
       "\n",
       "    .dataframe thead th {\n",
       "        text-align: right;\n",
       "    }\n",
       "</style>\n",
       "<table border=\"1\" class=\"dataframe\">\n",
       "  <thead>\n",
       "    <tr style=\"text-align: right;\">\n",
       "      <th></th>\n",
       "      <th>adult</th>\n",
       "      <th>budget</th>\n",
       "      <th>homepage</th>\n",
       "      <th>id</th>\n",
       "      <th>imdb_id</th>\n",
       "      <th>original_language</th>\n",
       "      <th>original_title</th>\n",
       "      <th>overview</th>\n",
       "      <th>popularity</th>\n",
       "      <th>poster_path</th>\n",
       "      <th>...</th>\n",
       "      <th>collection_id</th>\n",
       "      <th>collection_name</th>\n",
       "      <th>genres_id</th>\n",
       "      <th>genres_name</th>\n",
       "      <th>production_companies_name</th>\n",
       "      <th>production_companies_id</th>\n",
       "      <th>iso_3166_1</th>\n",
       "      <th>production_countries_name</th>\n",
       "      <th>iso_639_1</th>\n",
       "      <th>spoken_languages_name</th>\n",
       "    </tr>\n",
       "  </thead>\n",
       "  <tbody>\n",
       "    <tr>\n",
       "      <th>229629</th>\n",
       "      <td>0</td>\n",
       "      <td>0</td>\n",
       "      <td>0</td>\n",
       "      <td>0</td>\n",
       "      <td>0</td>\n",
       "      <td>0</td>\n",
       "      <td>0</td>\n",
       "      <td>0</td>\n",
       "      <td>0</td>\n",
       "      <td>0</td>\n",
       "      <td>...</td>\n",
       "      <td>0.0</td>\n",
       "      <td>0</td>\n",
       "      <td>0.0</td>\n",
       "      <td>0</td>\n",
       "      <td>0</td>\n",
       "      <td>0.0</td>\n",
       "      <td>0</td>\n",
       "      <td>0</td>\n",
       "      <td>0</td>\n",
       "      <td>0</td>\n",
       "    </tr>\n",
       "    <tr>\n",
       "      <th>229630</th>\n",
       "      <td>0</td>\n",
       "      <td>0</td>\n",
       "      <td>0</td>\n",
       "      <td>0</td>\n",
       "      <td>0</td>\n",
       "      <td>0</td>\n",
       "      <td>0</td>\n",
       "      <td>0</td>\n",
       "      <td>0</td>\n",
       "      <td>0</td>\n",
       "      <td>...</td>\n",
       "      <td>0.0</td>\n",
       "      <td>0</td>\n",
       "      <td>0.0</td>\n",
       "      <td>0</td>\n",
       "      <td>0</td>\n",
       "      <td>0.0</td>\n",
       "      <td>0</td>\n",
       "      <td>0</td>\n",
       "      <td>0</td>\n",
       "      <td>0</td>\n",
       "    </tr>\n",
       "    <tr>\n",
       "      <th>229631</th>\n",
       "      <td>0</td>\n",
       "      <td>0</td>\n",
       "      <td>0</td>\n",
       "      <td>0</td>\n",
       "      <td>0</td>\n",
       "      <td>0</td>\n",
       "      <td>0</td>\n",
       "      <td>0</td>\n",
       "      <td>0</td>\n",
       "      <td>0</td>\n",
       "      <td>...</td>\n",
       "      <td>0.0</td>\n",
       "      <td>0</td>\n",
       "      <td>0.0</td>\n",
       "      <td>0</td>\n",
       "      <td>0</td>\n",
       "      <td>0.0</td>\n",
       "      <td>0</td>\n",
       "      <td>0</td>\n",
       "      <td>0</td>\n",
       "      <td>0</td>\n",
       "    </tr>\n",
       "    <tr>\n",
       "      <th>229632</th>\n",
       "      <td>0</td>\n",
       "      <td>0</td>\n",
       "      <td>0</td>\n",
       "      <td>0</td>\n",
       "      <td>0</td>\n",
       "      <td>0</td>\n",
       "      <td>0</td>\n",
       "      <td>0</td>\n",
       "      <td>0</td>\n",
       "      <td>0</td>\n",
       "      <td>...</td>\n",
       "      <td>0.0</td>\n",
       "      <td>0</td>\n",
       "      <td>0.0</td>\n",
       "      <td>0</td>\n",
       "      <td>0</td>\n",
       "      <td>0.0</td>\n",
       "      <td>0</td>\n",
       "      <td>0</td>\n",
       "      <td>0</td>\n",
       "      <td>0</td>\n",
       "    </tr>\n",
       "    <tr>\n",
       "      <th>229633</th>\n",
       "      <td>0</td>\n",
       "      <td>0</td>\n",
       "      <td>0</td>\n",
       "      <td>0</td>\n",
       "      <td>0</td>\n",
       "      <td>0</td>\n",
       "      <td>0</td>\n",
       "      <td>0</td>\n",
       "      <td>0</td>\n",
       "      <td>0</td>\n",
       "      <td>...</td>\n",
       "      <td>0.0</td>\n",
       "      <td>0</td>\n",
       "      <td>0.0</td>\n",
       "      <td>0</td>\n",
       "      <td>0</td>\n",
       "      <td>0.0</td>\n",
       "      <td>0</td>\n",
       "      <td>0</td>\n",
       "      <td>0</td>\n",
       "      <td>0</td>\n",
       "    </tr>\n",
       "  </tbody>\n",
       "</table>\n",
       "<p>5 rows × 29 columns</p>\n",
       "</div>"
      ],
      "text/plain": [
       "       adult budget homepage id imdb_id original_language original_title  \\\n",
       "229629     0      0        0  0       0                 0              0   \n",
       "229630     0      0        0  0       0                 0              0   \n",
       "229631     0      0        0  0       0                 0              0   \n",
       "229632     0      0        0  0       0                 0              0   \n",
       "229633     0      0        0  0       0                 0              0   \n",
       "\n",
       "       overview popularity poster_path  ... collection_id  collection_name  \\\n",
       "229629        0          0           0  ...           0.0                0   \n",
       "229630        0          0           0  ...           0.0                0   \n",
       "229631        0          0           0  ...           0.0                0   \n",
       "229632        0          0           0  ...           0.0                0   \n",
       "229633        0          0           0  ...           0.0                0   \n",
       "\n",
       "        genres_id genres_name production_companies_name  \\\n",
       "229629        0.0           0                         0   \n",
       "229630        0.0           0                         0   \n",
       "229631        0.0           0                         0   \n",
       "229632        0.0           0                         0   \n",
       "229633        0.0           0                         0   \n",
       "\n",
       "       production_companies_id iso_3166_1  production_countries_name  \\\n",
       "229629                     0.0          0                          0   \n",
       "229630                     0.0          0                          0   \n",
       "229631                     0.0          0                          0   \n",
       "229632                     0.0          0                          0   \n",
       "229633                     0.0          0                          0   \n",
       "\n",
       "        iso_639_1  spoken_languages_name  \n",
       "229629          0                      0  \n",
       "229630          0                      0  \n",
       "229631          0                      0  \n",
       "229632          0                      0  \n",
       "229633          0                      0  \n",
       "\n",
       "[5 rows x 29 columns]"
      ]
     },
     "execution_count": 14,
     "metadata": {},
     "output_type": "execute_result"
    }
   ],
   "source": [
    "s.head()"
   ]
  },
  {
   "cell_type": "code",
   "execution_count": 15,
   "metadata": {},
   "outputs": [],
   "source": [
    "#Eliminar filas sin datos\n",
    "df = df[(df != 0).any(axis=1)]\n",
    "#Eliminar filas valores nulos de columna 'release_date'\n",
    "df.dropna(subset=['release_date'], inplace=True)"
   ]
  },
  {
   "cell_type": "markdown",
   "metadata": {},
   "source": [
    "Camnio de Formato en las columnas con fecha ('release_date')"
   ]
  },
  {
   "cell_type": "code",
   "execution_count": 16,
   "metadata": {},
   "outputs": [],
   "source": [
    "#Cambiar el tipo de dato de la columna 'release_date'\n",
    "df['release_date'] =pd.to_datetime(df['release_date'])\n",
    "#Crear la columna 'release_year'\n",
    "df['release_year']= df['release_date'].dt.year"
   ]
  },
  {
   "cell_type": "markdown",
   "metadata": {},
   "source": [
    "Creacion de la columna con el retorno de inversión ('return'), con los campos revenue y budget, cuando no hay datos disponibles para calcularlo, deberá tomar el valor 0."
   ]
  },
  {
   "cell_type": "code",
   "execution_count": 17,
   "metadata": {},
   "outputs": [],
   "source": [
    "#Cambio del tipo de dato de la columna 'budget'\n",
    "df['budget'] = df['budget'].astype(float)\n",
    "#Creacion de la columna Retorno de Inversion ('return')\n",
    "df['return'] = ((df['revenue'] / df['budget'].replace(0, np.nan)).round(2)).fillna(0)"
   ]
  },
  {
   "cell_type": "markdown",
   "metadata": {},
   "source": [
    "Eliminar las columnas que no serán utilizadas, video,imdb_id,adult,original_title,poster_path y homepage."
   ]
  },
  {
   "cell_type": "code",
   "execution_count": 18,
   "metadata": {},
   "outputs": [],
   "source": [
    "df.drop(columns= ['video', 'imdb_id', 'adult', 'original_title', 'poster_path', 'homepage'], inplace=True)"
   ]
  },
  {
   "cell_type": "code",
   "execution_count": 19,
   "metadata": {},
   "outputs": [],
   "source": [
    "#Cambio de tupo de datos de otras columnas\n",
    "df = df.astype({'id': int, 'popularity': float})"
   ]
  },
  {
   "cell_type": "markdown",
   "metadata": {},
   "source": [
    "DESANIDADO DE COLUMNAS DEL DATASETS CREDITS"
   ]
  },
  {
   "cell_type": "code",
   "execution_count": 20,
   "metadata": {},
   "outputs": [],
   "source": [
    "#Creacion de los DataFrames cast y crew\n",
    "df_cast = df_2[['cast', 'id']]\n",
    "df_crew = df_2[['crew', 'id']]"
   ]
  },
  {
   "cell_type": "code",
   "execution_count": 21,
   "metadata": {},
   "outputs": [
    {
     "name": "stderr",
     "output_type": "stream",
     "text": [
      "C:\\Users\\argen\\AppData\\Local\\Temp\\ipykernel_42980\\4112066881.py:2: SettingWithCopyWarning: \n",
      "A value is trying to be set on a copy of a slice from a DataFrame.\n",
      "Try using .loc[row_indexer,col_indexer] = value instead\n",
      "\n",
      "See the caveats in the documentation: https://pandas.pydata.org/pandas-docs/stable/user_guide/indexing.html#returning-a-view-versus-a-copy\n",
      "  df_cast[\"cast\"] = df_cast[\"cast\"].apply(fix_incomplete_strings)\n",
      "C:\\Users\\argen\\AppData\\Local\\Temp\\ipykernel_42980\\4112066881.py:3: SettingWithCopyWarning: \n",
      "A value is trying to be set on a copy of a slice from a DataFrame.\n",
      "Try using .loc[row_indexer,col_indexer] = value instead\n",
      "\n",
      "See the caveats in the documentation: https://pandas.pydata.org/pandas-docs/stable/user_guide/indexing.html#returning-a-view-versus-a-copy\n",
      "  df_cast[\"cast\"] = df_cast[\"cast\"].apply(carga_json_loads)\n"
     ]
    }
   ],
   "source": [
    "# Desanidado del Dataframe 'cast'\n",
    "df_cast[\"cast\"] = df_cast[\"cast\"].apply(fix_incomplete_strings)\n",
    "df_cast[\"cast\"] = df_cast[\"cast\"].apply(carga_json_loads)\n",
    "data_exploded = df_cast.explode(\"cast\")\n",
    "data_normalized = json_normalize(data_exploded[\"cast\"]).rename(columns= {'credit_id': 'credit_id_cast', 'gender':'cast_gender','id': 'actor_id', 'name':'actor_name', 'profile_path':'cast_profile_path'})\n",
    "df_cast = pd.concat([data_exploded.reset_index(drop=True), data_normalized], axis=1)\n",
    "df_cast.drop(columns= ['cast','credit_id_cast','cast_gender', 'order','cast_profile_path' ], inplace=True)"
   ]
  },
  {
   "cell_type": "code",
   "execution_count": 22,
   "metadata": {},
   "outputs": [
    {
     "name": "stderr",
     "output_type": "stream",
     "text": [
      "C:\\Users\\argen\\AppData\\Local\\Temp\\ipykernel_42980\\396785367.py:2: SettingWithCopyWarning: \n",
      "A value is trying to be set on a copy of a slice from a DataFrame.\n",
      "Try using .loc[row_indexer,col_indexer] = value instead\n",
      "\n",
      "See the caveats in the documentation: https://pandas.pydata.org/pandas-docs/stable/user_guide/indexing.html#returning-a-view-versus-a-copy\n",
      "  df_crew[\"crew\"] = df_crew[\"crew\"].apply(fix_incomplete_strings)\n",
      "C:\\Users\\argen\\AppData\\Local\\Temp\\ipykernel_42980\\396785367.py:3: SettingWithCopyWarning: \n",
      "A value is trying to be set on a copy of a slice from a DataFrame.\n",
      "Try using .loc[row_indexer,col_indexer] = value instead\n",
      "\n",
      "See the caveats in the documentation: https://pandas.pydata.org/pandas-docs/stable/user_guide/indexing.html#returning-a-view-versus-a-copy\n",
      "  df_crew[\"crew\"] = df_crew[\"crew\"].apply(carga_json_loads)\n"
     ]
    }
   ],
   "source": [
    "#Desanidado del DataFrame 'crew'\n",
    "df_crew[\"crew\"] = df_crew[\"crew\"].apply(fix_incomplete_strings)\n",
    "df_crew[\"crew\"] = df_crew[\"crew\"].apply(carga_json_loads)\n",
    "data_exploded = df_crew.explode(\"crew\")\n",
    "data_normalized = json_normalize(data_exploded[\"crew\"]).rename(columns= {'credit_id': 'credit_id_crew', 'gender':'crew_gender','id': 'crew_id', 'name':'crew_name', 'profile_path':'crew_profile_path'})\n",
    "df_crew = pd.concat([data_exploded.reset_index(drop=True), data_normalized], axis=1)\n",
    "df_crew.drop(columns=[\"crew\", \"credit_id_crew\", \"department\", \"crew_gender\", \"crew_profile_path\"], inplace= True)\n"
   ]
  },
  {
   "cell_type": "markdown",
   "metadata": {},
   "source": [
    "GENERAR DATASETS PARA CONSULTAS"
   ]
  },
  {
   "cell_type": "code",
   "execution_count": 24,
   "metadata": {},
   "outputs": [
    {
     "name": "stderr",
     "output_type": "stream",
     "text": [
      "C:\\Users\\argen\\AppData\\Local\\Temp\\ipykernel_42980\\217629843.py:4: SettingWithCopyWarning: \n",
      "A value is trying to be set on a copy of a slice from a DataFrame\n",
      "\n",
      "See the caveats in the documentation: https://pandas.pydata.org/pandas-docs/stable/user_guide/indexing.html#returning-a-view-versus-a-copy\n",
      "  datasets.drop_duplicates(inplace=True)\n"
     ]
    }
   ],
   "source": [
    "df_crew.to_csv('crew.csv', index=False)\n",
    "df_cast.to_csv('cast.csv', index=False)\n",
    "datasets = df[['id','popularity', 'release_date', 'status', 'title', 'vote_average', 'vote_count','return','budget','revenue']]\n",
    "datasets.drop_duplicates(inplace=True)\n",
    "datasets.to_csv('dataset.csv', index=False)"
   ]
  },
  {
   "cell_type": "code",
   "execution_count": null,
   "metadata": {},
   "outputs": [],
   "source": []
  }
 ],
 "metadata": {
  "kernelspec": {
   "display_name": "Python 3",
   "language": "python",
   "name": "python3"
  },
  "language_info": {
   "codemirror_mode": {
    "name": "ipython",
    "version": 3
   },
   "file_extension": ".py",
   "mimetype": "text/x-python",
   "name": "python",
   "nbconvert_exporter": "python",
   "pygments_lexer": "ipython3",
   "version": "3.12.1"
  }
 },
 "nbformat": 4,
 "nbformat_minor": 2
}
